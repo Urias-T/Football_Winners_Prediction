{
 "cells": [
  {
   "cell_type": "markdown",
   "metadata": {},
   "source": [
    "# USING MACHINE LEARNING TO PREDICT IF A CLUB WILL QUALIFY FOR THE UEFA CHAMPIONS LEAGUE"
   ]
  },
  {
   "cell_type": "markdown",
   "metadata": {},
   "source": [
    "### Import Relevant Libraries"
   ]
  },
  {
   "cell_type": "code",
   "execution_count": 1,
   "metadata": {},
   "outputs": [],
   "source": [
    "import pandas as pd\n",
    "import seaborn as sns\n",
    "\n",
    "import numpy as np\n",
    "import matplotlib.pyplot as plt\n",
    "\n",
    "from sklearn.linear_model import LogisticRegression\n",
    "from sklearn.metrics import accuracy_score\n",
    "from sklearn.model_selection import train_test_split\n",
    "from sklearn.pipeline import Pipeline, make_pipeline \n",
    "from category_encoders import OneHotEncoder\n",
    "from category_encoders import OrdinalEncoder\n",
    "from sklearn.tree import DecisionTreeClassifier\n",
    "from sklearn.metrics import confusion_matrix\n",
    "from sklearn.metrics import ConfusionMatrixDisplay\n",
    "\n",
    "\n",
    "import os"
   ]
  },
  {
   "cell_type": "markdown",
   "metadata": {},
   "source": [
    "### Load Data"
   ]
  },
  {
   "cell_type": "code",
   "execution_count": 2,
   "metadata": {},
   "outputs": [],
   "source": [
    "pwd = os.getcwd()"
   ]
  },
  {
   "cell_type": "code",
   "execution_count": 3,
   "metadata": {},
   "outputs": [
    {
     "data": {
      "text/html": [
       "<div>\n",
       "<style scoped>\n",
       "    .dataframe tbody tr th:only-of-type {\n",
       "        vertical-align: middle;\n",
       "    }\n",
       "\n",
       "    .dataframe tbody tr th {\n",
       "        vertical-align: top;\n",
       "    }\n",
       "\n",
       "    .dataframe thead th {\n",
       "        text-align: right;\n",
       "    }\n",
       "</style>\n",
       "<table border=\"1\" class=\"dataframe\">\n",
       "  <thead>\n",
       "    <tr style=\"text-align: right;\">\n",
       "      <th></th>\n",
       "      <th>Unnamed: 0</th>\n",
       "      <th>league</th>\n",
       "      <th>year</th>\n",
       "      <th>position</th>\n",
       "      <th>team</th>\n",
       "      <th>matches</th>\n",
       "      <th>wins</th>\n",
       "      <th>draws</th>\n",
       "      <th>loses</th>\n",
       "      <th>goals_scored</th>\n",
       "      <th>...</th>\n",
       "      <th>xGA</th>\n",
       "      <th>xGA_diff</th>\n",
       "      <th>npxGA</th>\n",
       "      <th>npxGD</th>\n",
       "      <th>ppda_coef</th>\n",
       "      <th>oppda_coef</th>\n",
       "      <th>deep</th>\n",
       "      <th>deep_allowed</th>\n",
       "      <th>xpts</th>\n",
       "      <th>xpts_diff</th>\n",
       "    </tr>\n",
       "  </thead>\n",
       "  <tbody>\n",
       "    <tr>\n",
       "      <th>0</th>\n",
       "      <td>0</td>\n",
       "      <td>La_liga</td>\n",
       "      <td>2014</td>\n",
       "      <td>1</td>\n",
       "      <td>Barcelona</td>\n",
       "      <td>38</td>\n",
       "      <td>30</td>\n",
       "      <td>4</td>\n",
       "      <td>4</td>\n",
       "      <td>110</td>\n",
       "      <td>...</td>\n",
       "      <td>28.444293</td>\n",
       "      <td>7.444293</td>\n",
       "      <td>24.727907</td>\n",
       "      <td>73.049305</td>\n",
       "      <td>5.683535</td>\n",
       "      <td>16.367593</td>\n",
       "      <td>489</td>\n",
       "      <td>114</td>\n",
       "      <td>94.0813</td>\n",
       "      <td>0.0813</td>\n",
       "    </tr>\n",
       "    <tr>\n",
       "      <th>1</th>\n",
       "      <td>1</td>\n",
       "      <td>La_liga</td>\n",
       "      <td>2014</td>\n",
       "      <td>2</td>\n",
       "      <td>Real Madrid</td>\n",
       "      <td>38</td>\n",
       "      <td>30</td>\n",
       "      <td>2</td>\n",
       "      <td>6</td>\n",
       "      <td>118</td>\n",
       "      <td>...</td>\n",
       "      <td>42.607198</td>\n",
       "      <td>4.607198</td>\n",
       "      <td>38.890805</td>\n",
       "      <td>47.213090</td>\n",
       "      <td>10.209085</td>\n",
       "      <td>12.929510</td>\n",
       "      <td>351</td>\n",
       "      <td>153</td>\n",
       "      <td>81.7489</td>\n",
       "      <td>-10.2511</td>\n",
       "    </tr>\n",
       "    <tr>\n",
       "      <th>2</th>\n",
       "      <td>2</td>\n",
       "      <td>La_liga</td>\n",
       "      <td>2014</td>\n",
       "      <td>3</td>\n",
       "      <td>Atletico Madrid</td>\n",
       "      <td>38</td>\n",
       "      <td>23</td>\n",
       "      <td>9</td>\n",
       "      <td>6</td>\n",
       "      <td>67</td>\n",
       "      <td>...</td>\n",
       "      <td>29.069107</td>\n",
       "      <td>0.069107</td>\n",
       "      <td>26.839271</td>\n",
       "      <td>25.748737</td>\n",
       "      <td>8.982028</td>\n",
       "      <td>9.237091</td>\n",
       "      <td>197</td>\n",
       "      <td>123</td>\n",
       "      <td>73.1353</td>\n",
       "      <td>-4.8647</td>\n",
       "    </tr>\n",
       "    <tr>\n",
       "      <th>3</th>\n",
       "      <td>3</td>\n",
       "      <td>La_liga</td>\n",
       "      <td>2014</td>\n",
       "      <td>4</td>\n",
       "      <td>Valencia</td>\n",
       "      <td>38</td>\n",
       "      <td>22</td>\n",
       "      <td>11</td>\n",
       "      <td>5</td>\n",
       "      <td>70</td>\n",
       "      <td>...</td>\n",
       "      <td>39.392572</td>\n",
       "      <td>7.392572</td>\n",
       "      <td>33.446477</td>\n",
       "      <td>16.257501</td>\n",
       "      <td>8.709827</td>\n",
       "      <td>7.870225</td>\n",
       "      <td>203</td>\n",
       "      <td>172</td>\n",
       "      <td>63.7068</td>\n",
       "      <td>-13.2932</td>\n",
       "    </tr>\n",
       "    <tr>\n",
       "      <th>4</th>\n",
       "      <td>4</td>\n",
       "      <td>La_liga</td>\n",
       "      <td>2014</td>\n",
       "      <td>5</td>\n",
       "      <td>Sevilla</td>\n",
       "      <td>38</td>\n",
       "      <td>23</td>\n",
       "      <td>7</td>\n",
       "      <td>8</td>\n",
       "      <td>71</td>\n",
       "      <td>...</td>\n",
       "      <td>47.862742</td>\n",
       "      <td>2.862742</td>\n",
       "      <td>41.916529</td>\n",
       "      <td>20.178070</td>\n",
       "      <td>8.276148</td>\n",
       "      <td>9.477805</td>\n",
       "      <td>305</td>\n",
       "      <td>168</td>\n",
       "      <td>67.3867</td>\n",
       "      <td>-8.6133</td>\n",
       "    </tr>\n",
       "  </tbody>\n",
       "</table>\n",
       "<p>5 rows × 25 columns</p>\n",
       "</div>"
      ],
      "text/plain": [
       "   Unnamed: 0   league  year  position             team  matches  wins  draws  \\\n",
       "0           0  La_liga  2014         1        Barcelona       38    30      4   \n",
       "1           1  La_liga  2014         2      Real Madrid       38    30      2   \n",
       "2           2  La_liga  2014         3  Atletico Madrid       38    23      9   \n",
       "3           3  La_liga  2014         4         Valencia       38    22     11   \n",
       "4           4  La_liga  2014         5          Sevilla       38    23      7   \n",
       "\n",
       "   loses  goals_scored  ...        xGA  xGA_diff      npxGA      npxGD  \\\n",
       "0      4           110  ...  28.444293  7.444293  24.727907  73.049305   \n",
       "1      6           118  ...  42.607198  4.607198  38.890805  47.213090   \n",
       "2      6            67  ...  29.069107  0.069107  26.839271  25.748737   \n",
       "3      5            70  ...  39.392572  7.392572  33.446477  16.257501   \n",
       "4      8            71  ...  47.862742  2.862742  41.916529  20.178070   \n",
       "\n",
       "   ppda_coef  oppda_coef  deep  deep_allowed     xpts  xpts_diff  \n",
       "0   5.683535   16.367593   489           114  94.0813     0.0813  \n",
       "1  10.209085   12.929510   351           153  81.7489   -10.2511  \n",
       "2   8.982028    9.237091   197           123  73.1353    -4.8647  \n",
       "3   8.709827    7.870225   203           172  63.7068   -13.2932  \n",
       "4   8.276148    9.477805   305           168  67.3867    -8.6133  \n",
       "\n",
       "[5 rows x 25 columns]"
      ]
     },
     "execution_count": 3,
     "metadata": {},
     "output_type": "execute_result"
    }
   ],
   "source": [
    "df_ori = pd.read_csv(pwd + \"/cleaned_data.csv\")\n",
    "df_ori.head()"
   ]
  },
  {
   "cell_type": "code",
   "execution_count": 4,
   "metadata": {},
   "outputs": [
    {
     "data": {
      "text/plain": [
       "Index(['league', 'year', 'position', 'team', 'matches', 'wins', 'draws',\n",
       "       'loses', 'goals_scored', 'goals_conceded', 'pts', 'xG', 'xG_diff',\n",
       "       'npxG', 'xGA', 'xGA_diff', 'npxGA', 'npxGD', 'ppda_coef', 'oppda_coef',\n",
       "       'deep', 'deep_allowed', 'xpts', 'xpts_diff'],\n",
       "      dtype='object')"
      ]
     },
     "execution_count": 4,
     "metadata": {},
     "output_type": "execute_result"
    }
   ],
   "source": [
    "df = df_ori.copy()\n",
    "df.drop(columns = [\"Unnamed: 0\"], inplace = True)\n",
    "df.columns"
   ]
  },
  {
   "cell_type": "markdown",
   "metadata": {},
   "source": [
    "## Feature Engineering"
   ]
  },
  {
   "cell_type": "code",
   "execution_count": 5,
   "metadata": {},
   "outputs": [
    {
     "data": {
      "text/plain": [
       "Index(['league', 'year', 'position', 'team', 'matches', 'wins', 'draws',\n",
       "       'loses', 'goals_scored', 'goals_conceded', 'pts', 'xG', 'xG_diff',\n",
       "       'npxG', 'xGA', 'xGA_diff', 'npxGA', 'npxGD', 'ppda_coef', 'oppda_coef',\n",
       "       'deep', 'deep_allowed', 'xpts', 'xpts_diff', 'league_code'],\n",
       "      dtype='object')"
      ]
     },
     "execution_count": 5,
     "metadata": {},
     "output_type": "execute_result"
    }
   ],
   "source": [
    "# Assign id integers to the various leagues with values in range(0, df[\"league\"].nunique()) in alphabetical order\n",
    "\n",
    "df[\"league_code\"] = df[\"league\"].astype(\"category\").cat.codes \n",
    "df.columns"
   ]
  },
  {
   "cell_type": "code",
   "execution_count": 6,
   "metadata": {},
   "outputs": [
    {
     "data": {
      "text/plain": [
       "Index(['league', 'year', 'position', 'team', 'matches', 'wins', 'draws',\n",
       "       'loses', 'goals_scored', 'goals_conceded', 'pts', 'xG', 'xG_diff',\n",
       "       'npxG', 'xGA', 'xGA_diff', 'npxGA', 'npxGD', 'ppda_coef', 'oppda_coef',\n",
       "       'deep', 'deep_allowed', 'xpts', 'xpts_diff', 'league_code',\n",
       "       'qualified'],\n",
       "      dtype='object')"
      ]
     },
     "execution_count": 6,
     "metadata": {},
     "output_type": "execute_result"
    }
   ],
   "source": [
    "# Create new column for qualification status\n",
    "\n",
    "df[\"qualified\"] = 0\n",
    "df.columns"
   ]
  },
  {
   "cell_type": "code",
   "execution_count": 7,
   "metadata": {},
   "outputs": [],
   "source": [
    "# Assign new values to qualification columns for specific teams based on qualification criteria\n",
    "\n",
    "for i, row in df.iterrows():\n",
    "\n",
    "    if ((row[\"league_code\"] == 4) and (row[\"position\"] == 1)): \n",
    "        df.iloc[i, df.columns.get_loc(\"qualified\")] = 1\n",
    "    elif ((row['league_code'] == 3) and (row[\"position\"] in range(1,3))):\n",
    "        df.iloc[i, df.columns.get_loc(\"qualified\")] = 1\n",
    "    elif ((row['league_code'] in (0, 1, 2, 5)) and (row[\"position\"] in range(1, 5))):\n",
    "        df.iloc[i, df.columns.get_loc(\"qualified\")] = 1\n",
    "    else:\n",
    "        pass\n",
    "        "
   ]
  },
  {
   "cell_type": "code",
   "execution_count": 8,
   "metadata": {},
   "outputs": [
    {
     "data": {
      "text/html": [
       "<div>\n",
       "<style scoped>\n",
       "    .dataframe tbody tr th:only-of-type {\n",
       "        vertical-align: middle;\n",
       "    }\n",
       "\n",
       "    .dataframe tbody tr th {\n",
       "        vertical-align: top;\n",
       "    }\n",
       "\n",
       "    .dataframe thead th {\n",
       "        text-align: right;\n",
       "    }\n",
       "</style>\n",
       "<table border=\"1\" class=\"dataframe\">\n",
       "  <thead>\n",
       "    <tr style=\"text-align: right;\">\n",
       "      <th></th>\n",
       "      <th>league</th>\n",
       "      <th>year</th>\n",
       "      <th>position</th>\n",
       "      <th>team</th>\n",
       "      <th>matches</th>\n",
       "      <th>wins</th>\n",
       "      <th>draws</th>\n",
       "      <th>loses</th>\n",
       "      <th>goals_scored</th>\n",
       "      <th>goals_conceded</th>\n",
       "      <th>...</th>\n",
       "      <th>npxGA</th>\n",
       "      <th>npxGD</th>\n",
       "      <th>ppda_coef</th>\n",
       "      <th>oppda_coef</th>\n",
       "      <th>deep</th>\n",
       "      <th>deep_allowed</th>\n",
       "      <th>xpts</th>\n",
       "      <th>xpts_diff</th>\n",
       "      <th>league_code</th>\n",
       "      <th>qualified</th>\n",
       "    </tr>\n",
       "  </thead>\n",
       "  <tbody>\n",
       "    <tr>\n",
       "      <th>0</th>\n",
       "      <td>La_liga</td>\n",
       "      <td>2014</td>\n",
       "      <td>1</td>\n",
       "      <td>Barcelona</td>\n",
       "      <td>38</td>\n",
       "      <td>30</td>\n",
       "      <td>4</td>\n",
       "      <td>4</td>\n",
       "      <td>110</td>\n",
       "      <td>21</td>\n",
       "      <td>...</td>\n",
       "      <td>24.727907</td>\n",
       "      <td>73.049305</td>\n",
       "      <td>5.683535</td>\n",
       "      <td>16.367593</td>\n",
       "      <td>489</td>\n",
       "      <td>114</td>\n",
       "      <td>94.0813</td>\n",
       "      <td>0.0813</td>\n",
       "      <td>2</td>\n",
       "      <td>1</td>\n",
       "    </tr>\n",
       "    <tr>\n",
       "      <th>1</th>\n",
       "      <td>La_liga</td>\n",
       "      <td>2014</td>\n",
       "      <td>2</td>\n",
       "      <td>Real Madrid</td>\n",
       "      <td>38</td>\n",
       "      <td>30</td>\n",
       "      <td>2</td>\n",
       "      <td>6</td>\n",
       "      <td>118</td>\n",
       "      <td>38</td>\n",
       "      <td>...</td>\n",
       "      <td>38.890805</td>\n",
       "      <td>47.213090</td>\n",
       "      <td>10.209085</td>\n",
       "      <td>12.929510</td>\n",
       "      <td>351</td>\n",
       "      <td>153</td>\n",
       "      <td>81.7489</td>\n",
       "      <td>-10.2511</td>\n",
       "      <td>2</td>\n",
       "      <td>1</td>\n",
       "    </tr>\n",
       "    <tr>\n",
       "      <th>2</th>\n",
       "      <td>La_liga</td>\n",
       "      <td>2014</td>\n",
       "      <td>3</td>\n",
       "      <td>Atletico Madrid</td>\n",
       "      <td>38</td>\n",
       "      <td>23</td>\n",
       "      <td>9</td>\n",
       "      <td>6</td>\n",
       "      <td>67</td>\n",
       "      <td>29</td>\n",
       "      <td>...</td>\n",
       "      <td>26.839271</td>\n",
       "      <td>25.748737</td>\n",
       "      <td>8.982028</td>\n",
       "      <td>9.237091</td>\n",
       "      <td>197</td>\n",
       "      <td>123</td>\n",
       "      <td>73.1353</td>\n",
       "      <td>-4.8647</td>\n",
       "      <td>2</td>\n",
       "      <td>1</td>\n",
       "    </tr>\n",
       "    <tr>\n",
       "      <th>3</th>\n",
       "      <td>La_liga</td>\n",
       "      <td>2014</td>\n",
       "      <td>4</td>\n",
       "      <td>Valencia</td>\n",
       "      <td>38</td>\n",
       "      <td>22</td>\n",
       "      <td>11</td>\n",
       "      <td>5</td>\n",
       "      <td>70</td>\n",
       "      <td>32</td>\n",
       "      <td>...</td>\n",
       "      <td>33.446477</td>\n",
       "      <td>16.257501</td>\n",
       "      <td>8.709827</td>\n",
       "      <td>7.870225</td>\n",
       "      <td>203</td>\n",
       "      <td>172</td>\n",
       "      <td>63.7068</td>\n",
       "      <td>-13.2932</td>\n",
       "      <td>2</td>\n",
       "      <td>1</td>\n",
       "    </tr>\n",
       "    <tr>\n",
       "      <th>4</th>\n",
       "      <td>La_liga</td>\n",
       "      <td>2014</td>\n",
       "      <td>5</td>\n",
       "      <td>Sevilla</td>\n",
       "      <td>38</td>\n",
       "      <td>23</td>\n",
       "      <td>7</td>\n",
       "      <td>8</td>\n",
       "      <td>71</td>\n",
       "      <td>45</td>\n",
       "      <td>...</td>\n",
       "      <td>41.916529</td>\n",
       "      <td>20.178070</td>\n",
       "      <td>8.276148</td>\n",
       "      <td>9.477805</td>\n",
       "      <td>305</td>\n",
       "      <td>168</td>\n",
       "      <td>67.3867</td>\n",
       "      <td>-8.6133</td>\n",
       "      <td>2</td>\n",
       "      <td>0</td>\n",
       "    </tr>\n",
       "  </tbody>\n",
       "</table>\n",
       "<p>5 rows × 26 columns</p>\n",
       "</div>"
      ],
      "text/plain": [
       "    league  year  position             team  matches  wins  draws  loses  \\\n",
       "0  La_liga  2014         1        Barcelona       38    30      4      4   \n",
       "1  La_liga  2014         2      Real Madrid       38    30      2      6   \n",
       "2  La_liga  2014         3  Atletico Madrid       38    23      9      6   \n",
       "3  La_liga  2014         4         Valencia       38    22     11      5   \n",
       "4  La_liga  2014         5          Sevilla       38    23      7      8   \n",
       "\n",
       "   goals_scored  goals_conceded  ...      npxGA      npxGD  ppda_coef  \\\n",
       "0           110              21  ...  24.727907  73.049305   5.683535   \n",
       "1           118              38  ...  38.890805  47.213090  10.209085   \n",
       "2            67              29  ...  26.839271  25.748737   8.982028   \n",
       "3            70              32  ...  33.446477  16.257501   8.709827   \n",
       "4            71              45  ...  41.916529  20.178070   8.276148   \n",
       "\n",
       "   oppda_coef  deep  deep_allowed     xpts  xpts_diff  league_code  qualified  \n",
       "0   16.367593   489           114  94.0813     0.0813            2          1  \n",
       "1   12.929510   351           153  81.7489   -10.2511            2          1  \n",
       "2    9.237091   197           123  73.1353    -4.8647            2          1  \n",
       "3    7.870225   203           172  63.7068   -13.2932            2          1  \n",
       "4    9.477805   305           168  67.3867    -8.6133            2          0  \n",
       "\n",
       "[5 rows x 26 columns]"
      ]
     },
     "execution_count": 8,
     "metadata": {},
     "output_type": "execute_result"
    }
   ],
   "source": [
    "df.head()"
   ]
  },
  {
   "cell_type": "markdown",
   "metadata": {},
   "source": [
    "## Model Initialization"
   ]
  },
  {
   "cell_type": "code",
   "execution_count": 9,
   "metadata": {},
   "outputs": [
    {
     "name": "stdout",
     "output_type": "stream",
     "text": [
      "The baseline accuracy is: 0.83\n"
     ]
    }
   ],
   "source": [
    "# Set baseline threshold\n",
    "\n",
    "acc_baseline = df[\"qualified\"].value_counts(normalize = True).max()\n",
    "print(\"The baseline accuracy is:\", round(acc_baseline, 2))"
   ]
  },
  {
   "cell_type": "markdown",
   "metadata": {},
   "source": [
    "### Linear Regression Model"
   ]
  },
  {
   "cell_type": "code",
   "execution_count": 10,
   "metadata": {},
   "outputs": [
    {
     "data": {
      "image/png": "[encoded data removed]",
      "text/plain": [
       "<Figure size 1080x576 with 2 Axes>"
      ]
     },
     "metadata": {
      "needs_background": "light"
     },
     "output_type": "display_data"
    }
   ],
   "source": [
    "# Check chosen features for correlation\n",
    "\n",
    "plt.figure(figsize = [15, 8])\n",
    "\n",
    "features = df[[\"ppda_coef\", \"oppda_coef\", \"xG_diff\", \"xGA_diff\", \n",
    "    \"goals_scored\", \"goals_conceded\", \"npxG\", \"npxGA\", \"draws\"]].copy()\n",
    "sns.heatmap(features.corr());"
   ]
  },
  {
   "cell_type": "code",
   "execution_count": 11,
   "metadata": {},
   "outputs": [
    {
     "name": "stdout",
     "output_type": "stream",
     "text": [
      "(684, 10)\n",
      "(684,)\n"
     ]
    }
   ],
   "source": [
    "# Set feature matrix and target vector\n",
    "\n",
    "features = [\"ppda_coef\", \"oppda_coef\", \"xG_diff\", \"xGA_diff\", \n",
    "    \"goals_scored\", \"goals_conceded\", \"npxG\", \"npxGA\", \"draws\", \"league\"]\n",
    "target = \"qualified\"\n",
    "\n",
    "X = df[features]\n",
    "y = df[target]\n",
    "\n",
    "print(X.shape)\n",
    "print(y.shape)"
   ]
  },
  {
   "cell_type": "code",
   "execution_count": 12,
   "metadata": {},
   "outputs": [
    {
     "name": "stdout",
     "output_type": "stream",
     "text": [
      "X_train shape: (478, 10)\n",
      "y_train shape: (478,)\n",
      "X_test shape: (206, 10)\n",
      "y_test shape: (206,)\n"
     ]
    }
   ],
   "source": [
    "# Train - Test Split\n",
    "\n",
    "X_train, X_test, y_train, y_test = train_test_split(X, y, test_size = 0.3, random_state = 42)\n",
    "\n",
    "print(\"X_train shape:\", X_train.shape)\n",
    "print(\"y_train shape:\", y_train.shape)\n",
    "print(\"X_test shape:\", X_test.shape)\n",
    "print(\"y_test shape:\", y_test.shape)"
   ]
  },
  {
   "cell_type": "code",
   "execution_count": 13,
   "metadata": {},
   "outputs": [
    {
     "data": {
      "text/plain": [
       "Pipeline(steps=[('onehotencoder',\n",
       "                 OneHotEncoder(cols=['league'], use_cat_names=True)),\n",
       "                ('logisticregression', LogisticRegression(max_iter=1500))])"
      ]
     },
     "execution_count": 13,
     "metadata": {},
     "output_type": "execute_result"
    }
   ],
   "source": [
    "# Build and Train Model \n",
    " \n",
    "\n",
    "l_model = make_pipeline(\n",
    "    OneHotEncoder(use_cat_names = True),\n",
    "    LogisticRegression(max_iter = 1500)\n",
    ")\n",
    "\n",
    "l_model.fit(X_train, y_train)"
   ]
  },
  {
   "cell_type": "code",
   "execution_count": 14,
   "metadata": {},
   "outputs": [
    {
     "name": "stdout",
     "output_type": "stream",
     "text": [
      "Training accuracy: 0.94\n",
      "Testing accuracy: 0.96\n"
     ]
    }
   ],
   "source": [
    "# Check Model Accuracy\n",
    "\n",
    "train_acc = accuracy_score(y_train, l_model.predict(X_train))\n",
    "test_acc = accuracy_score(y_test, l_model.predict(X_test))\n",
    "\n",
    "print(\"Training accuracy:\", round(train_acc, 2))\n",
    "print(\"Testing accuracy:\", round(test_acc, 2))"
   ]
  },
  {
   "cell_type": "code",
   "execution_count": 15,
   "metadata": {},
   "outputs": [
    {
     "data": {
      "text/plain": [
       "array([[165,   6],\n",
       "       [  3,  32]], dtype=int64)"
      ]
     },
     "execution_count": 15,
     "metadata": {},
     "output_type": "execute_result"
    }
   ],
   "source": [
    "# Check confusion matrix to investigate model's true performance\n",
    "\n",
    "l_model_cm = confusion_matrix(y_test, l_model.predict(X_test))\n",
    "l_model_cm"
   ]
  },
  {
   "cell_type": "code",
   "execution_count": 17,
   "metadata": {},
   "outputs": [
    {
     "data": {
      "image/png": "[encoded data removed]",
      "text/plain": [
       "<Figure size 432x288 with 2 Axes>"
      ]
     },
     "metadata": {
      "needs_background": "light"
     },
     "output_type": "display_data"
    }
   ],
   "source": [
    "# Visualize confusion matrix.\n",
    "\n",
    "l_model_cmd = ConfusionMatrixDisplay(confusion_matrix = l_model_cm)\n",
    "l_model_cmd.plot();"
   ]
  },
  {
   "cell_type": "code",
   "execution_count": 18,
   "metadata": {},
   "outputs": [
    {
     "data": {
      "image/png": "[encoded data removed]",
      "text/plain": [
       "<Figure size 1080x576 with 1 Axes>"
      ]
     },
     "metadata": {
      "needs_background": "light"
     },
     "output_type": "display_data"
    }
   ],
   "source": [
    "# Check Model's Odd Ratio for Features\n",
    "\n",
    "plt.figure(figsize = [15, 8])\n",
    "\n",
    "features = l_model.named_steps[\"onehotencoder\"].get_feature_names()\n",
    "importances = l_model.named_steps[\"logisticregression\"].coef_[0]\n",
    "\n",
    "odds_ratio = pd.Series(np.exp(importances), index = features).sort_values()\n",
    "odds_ratio.plot(kind = \"barh\");\n",
    "plt.xlabel(\"Odds Ratio\")\n",
    "plt.ylabel(\"Features\")\n",
    "plt.title(\"Odds Ratio for UCL Qualification\");"
   ]
  },
  {
   "cell_type": "markdown",
   "metadata": {},
   "source": [
    "### Decision Tree Model"
   ]
  },
  {
   "cell_type": "code",
   "execution_count": 19,
   "metadata": {},
   "outputs": [
    {
     "data": {
      "text/plain": [
       "Index(['league', 'year', 'position', 'team', 'matches', 'wins', 'draws',\n",
       "       'loses', 'goals_scored', 'goals_conceded', 'pts', 'xG', 'xG_diff',\n",
       "       'npxG', 'xGA', 'xGA_diff', 'npxGA', 'npxGD', 'ppda_coef', 'oppda_coef',\n",
       "       'deep', 'deep_allowed', 'xpts', 'xpts_diff', 'league_code',\n",
       "       'qualified'],\n",
       "      dtype='object')"
      ]
     },
     "execution_count": 19,
     "metadata": {},
     "output_type": "execute_result"
    }
   ],
   "source": [
    "tree_df = df.copy()\n",
    "tree_df.columns"
   ]
  },
  {
   "cell_type": "code",
   "execution_count": 20,
   "metadata": {},
   "outputs": [
    {
     "name": "stdout",
     "output_type": "stream",
     "text": [
      "(684, 20)\n",
      "(684,)\n"
     ]
    }
   ],
   "source": [
    "# Create feature matrix and target vector\n",
    "\n",
    "tree_features = ['league', 'wins', 'draws',\n",
    "       'loses', 'goals_scored', 'goals_conceded', 'pts', 'xG', 'xG_diff',\n",
    "       'npxG', 'xGA', 'xGA_diff', 'npxGA', 'npxGD', 'ppda_coef', 'oppda_coef',\n",
    "       'deep', 'deep_allowed', 'xpts', 'xpts_diff']\n",
    "\n",
    "X_tree = df[tree_features]\n",
    "y_tree = df[target]\n",
    "\n",
    "print(X_tree.shape)\n",
    "print(y_tree.shape)\n"
   ]
  },
  {
   "cell_type": "code",
   "execution_count": 21,
   "metadata": {},
   "outputs": [
    {
     "name": "stdout",
     "output_type": "stream",
     "text": [
      "X_tree_train shape: (581, 20)\n",
      "y_tree_train shape: (581,)\n",
      "X_tree_test shape: (103, 20)\n",
      "y_tree_test shape: (103,)\n"
     ]
    }
   ],
   "source": [
    "# Train - Test split\n",
    "\n",
    "X_tree_train, X_tree_test, y_tree_train, y_tree_test = train_test_split(\n",
    "    X_tree, y_tree, test_size = 0.15, random_state = 42\n",
    ")\n",
    "\n",
    "print(\"X_tree_train shape:\", X_tree_train.shape)\n",
    "print(\"y_tree_train shape:\", y_tree_train.shape)\n",
    "print(\"X_tree_test shape:\", X_tree_test.shape)\n",
    "print(\"y_tree_test shape:\", y_tree_test.shape)"
   ]
  },
  {
   "cell_type": "code",
   "execution_count": 22,
   "metadata": {},
   "outputs": [
    {
     "name": "stdout",
     "output_type": "stream",
     "text": [
      "X_tree_train shape: (476, 20)\n",
      "y_tree_train shape: (476,)\n",
      "X_tree_val shape: (105, 20)\n",
      "y_tree_val shape: (105,)\n"
     ]
    }
   ],
   "source": [
    "# Train - Validation Split\n",
    "\n",
    "X_tree_train, X_tree_val, y_tree_train, y_tree_val = train_test_split(\n",
    "    X_tree_train, y_tree_train, test_size = 0.18, random_state = 42\n",
    ")\n",
    "\n",
    "print(\"X_tree_train shape:\", X_tree_train.shape)\n",
    "print(\"y_tree_train shape:\", y_tree_train.shape)\n",
    "print(\"X_tree_val shape:\", X_tree_val.shape)\n",
    "print(\"y_tree_val shape:\", y_tree_val.shape)"
   ]
  },
  {
   "cell_type": "code",
   "execution_count": 23,
   "metadata": {},
   "outputs": [
    {
     "data": {
      "text/plain": [
       "Pipeline(steps=[('onehotencoder', OneHotEncoder(cols=['league'])),\n",
       "                ('decisiontreeclassifier',\n",
       "                 DecisionTreeClassifier(random_state=42))])"
      ]
     },
     "execution_count": 23,
     "metadata": {},
     "output_type": "execute_result"
    }
   ],
   "source": [
    "# Build and train\n",
    "\n",
    "tree_model = make_pipeline(\n",
    "    OneHotEncoder(), \n",
    "    DecisionTreeClassifier(random_state = 42)\n",
    ")\n",
    "\n",
    "tree_model.fit(X_tree_train, y_tree_train)"
   ]
  },
  {
   "cell_type": "code",
   "execution_count": 24,
   "metadata": {},
   "outputs": [
    {
     "name": "stdout",
     "output_type": "stream",
     "text": [
      "Training accuracy: 1.0\n",
      "Validation accuracy: 0.92\n"
     ]
    }
   ],
   "source": [
    "# Check model's accuracy\n",
    "\n",
    "tree_train_acc = accuracy_score(y_tree_train, tree_model.predict(X_tree_train))\n",
    "tree_val_acc = accuracy_score(y_tree_val, tree_model.predict(X_tree_val))\n",
    "\n",
    "print(\"Training accuracy:\", round(tree_train_acc, 2))\n",
    "print(\"Validation accuracy:\", round(tree_val_acc, 2))"
   ]
  },
  {
   "cell_type": "code",
   "execution_count": 25,
   "metadata": {},
   "outputs": [
    {
     "data": {
      "text/plain": [
       "5"
      ]
     },
     "execution_count": 25,
     "metadata": {},
     "output_type": "execute_result"
    }
   ],
   "source": [
    "# Check tree's depth\n",
    "\n",
    "tree_model.named_steps[\"decisiontreeclassifier\"].get_depth()"
   ]
  },
  {
   "cell_type": "markdown",
   "metadata": {},
   "source": [
    "*Hyperparameter tuning*"
   ]
  },
  {
   "cell_type": "code",
   "execution_count": 26,
   "metadata": {},
   "outputs": [],
   "source": [
    "# Set value range for depth hyper parameter\n",
    "\n",
    "depth_hyperparams = range(1, 6)"
   ]
  },
  {
   "cell_type": "code",
   "execution_count": 27,
   "metadata": {},
   "outputs": [
    {
     "name": "stdout",
     "output_type": "stream",
     "text": [
      "Training Accuracy Scores: [0.9411764705882353, 0.9495798319327731, 0.9684873949579832, 0.9810924369747899, 1.0]\n",
      "Validation Accuracy Scores: [0.9619047619047619, 0.9714285714285714, 0.9523809523809523, 0.9428571428571428, 0.9238095238095239]\n"
     ]
    }
   ],
   "source": [
    "# Train models with the different depths\n",
    "\n",
    "training_acc = []\n",
    "validation_acc = []\n",
    "\n",
    "for d in depth_hyperparams:\n",
    "\n",
    "    test_model = make_pipeline(\n",
    "        OneHotEncoder(),\n",
    "        DecisionTreeClassifier(max_depth = d, random_state = 42)\n",
    "    )\n",
    "\n",
    "    test_model.fit(X_tree_train, y_tree_train)\n",
    "\n",
    "    training_acc.append(accuracy_score(y_tree_train, test_model.predict(X_tree_train)))\n",
    "    \n",
    "    validation_acc.append(accuracy_score(y_tree_val, test_model.predict(X_tree_val)))\n",
    "\n",
    "\n",
    "print(\"Training Accuracy Scores:\", training_acc[:])\n",
    "print(\"Validation Accuracy Scores:\", validation_acc[:])"
   ]
  },
  {
   "cell_type": "code",
   "execution_count": 28,
   "metadata": {},
   "outputs": [
    {
     "data": {
      "image/png": "[encoded data removed]",
      "text/plain": [
       "<Figure size 432x288 with 1 Axes>"
      ]
     },
     "metadata": {
      "needs_background": "light"
     },
     "output_type": "display_data"
    }
   ],
   "source": [
    "# Plot accuracy score against tree depth to aid choice on best depth.\n",
    "\n",
    "plt.plot(depth_hyperparams, training_acc, label=\"Training\")\n",
    "plt.plot(depth_hyperparams, validation_acc, label=\"Validation\")\n",
    "plt.xlabel(\"Max Depth\")\n",
    "plt.ylabel(\"Accuracy Score\")\n",
    "plt.legend();"
   ]
  },
  {
   "cell_type": "code",
   "execution_count": 29,
   "metadata": {},
   "outputs": [
    {
     "data": {
      "text/plain": [
       "Pipeline(steps=[('onehotencoder', OneHotEncoder(cols=['league'])),\n",
       "                ('decisiontreeclassifier',\n",
       "                 DecisionTreeClassifier(max_depth=2.5, random_state=42))])"
      ]
     },
     "execution_count": 29,
     "metadata": {},
     "output_type": "execute_result"
    }
   ],
   "source": [
    "# Build and train tuned tree model\n",
    "\n",
    "tuned_tree_model = make_pipeline(\n",
    "    OneHotEncoder(), \n",
    "    DecisionTreeClassifier(max_depth = 2.5, random_state = 42)\n",
    ")\n",
    "\n",
    "tuned_tree_model.fit(X_tree_train, y_tree_train)"
   ]
  },
  {
   "cell_type": "code",
   "execution_count": 30,
   "metadata": {},
   "outputs": [
    {
     "name": "stdout",
     "output_type": "stream",
     "text": [
      "Tuned Tree Training accuracy: 0.95\n",
      "Tuned Tree Validation accuracy: 0.97\n"
     ]
    }
   ],
   "source": [
    "# Check tuned model's accuracy\n",
    "\n",
    "tuned_tree_train_acc = accuracy_score(y_tree_train, tuned_tree_model.predict(X_tree_train))\n",
    "tuned_tree_val_acc = accuracy_score(y_tree_val, tuned_tree_model.predict(X_tree_val))\n",
    "\n",
    "print(\"Tuned Tree Training accuracy:\", round(tuned_tree_train_acc, 2))\n",
    "print(\"Tuned Tree Validation accuracy:\", round(tuned_tree_val_acc, 2))"
   ]
  },
  {
   "cell_type": "code",
   "execution_count": 31,
   "metadata": {},
   "outputs": [
    {
     "name": "stdout",
     "output_type": "stream",
     "text": [
      "Tuned Tree Testing accuracy: 0.94\n"
     ]
    }
   ],
   "source": [
    "# Apply new hyperparameter, train and test model.\n",
    "\n",
    "tuned_tree_test_acc = accuracy_score(y_tree_test, tuned_tree_model.predict(X_tree_test))\n",
    "\n",
    "print(\"Tuned Tree Testing accuracy:\", round(tuned_tree_test_acc, 2))"
   ]
  },
  {
   "cell_type": "code",
   "execution_count": 32,
   "metadata": {},
   "outputs": [
    {
     "data": {
      "text/plain": [
       "array([[84,  4],\n",
       "       [ 2, 13]], dtype=int64)"
      ]
     },
     "execution_count": 32,
     "metadata": {},
     "output_type": "execute_result"
    }
   ],
   "source": [
    "# Build confusion matrix to undesrstand model's performance.\n",
    "\n",
    "tree_cm = confusion_matrix(y_tree_test, tuned_tree_model.predict(X_tree_test))\n",
    "tree_cm"
   ]
  },
  {
   "cell_type": "code",
   "execution_count": 34,
   "metadata": {},
   "outputs": [
    {
     "data": {
      "image/png": "[encoded data removed]",
      "text/plain": [
       "<Figure size 432x288 with 2 Axes>"
      ]
     },
     "metadata": {
      "needs_background": "light"
     },
     "output_type": "display_data"
    }
   ],
   "source": [
    "# Visualize confusion matrix.\n",
    "\n",
    "tree_cmd = ConfusionMatrixDisplay(confusion_matrix = tree_cm)\n",
    "tree_cmd.plot();"
   ]
  },
  {
   "cell_type": "code",
   "execution_count": 48,
   "metadata": {},
   "outputs": [],
   "source": [
    "import pickle "
   ]
  },
  {
   "cell_type": "code",
   "execution_count": 49,
   "metadata": {},
   "outputs": [],
   "source": [
    "# Pickle linear model\n",
    "\n",
    "with open(\"linear_ucl_model\", \"wb\") as f:\n",
    "    pickle.dump(l_model, f)"
   ]
  },
  {
   "cell_type": "code",
   "execution_count": 51,
   "metadata": {},
   "outputs": [],
   "source": [
    "# Pickle tuned tree model\n",
    "\n",
    "with open(\"tuned_tree_ucl_model\", \"wb\") as m:\n",
    "    pickle.dump(tuned_tree_model, m)"
   ]
  }
 ],
 "metadata": {
  "kernelspec": {
   "display_name": "Python 3.9.5 64-bit",
   "language": "python",
   "name": "python3"
  },
  "language_info": {
   "codemirror_mode": {
    "name": "ipython",
    "version": 3
   },
   "file_extension": ".py",
   "mimetype": "text/x-python",
   "name": "python",
   "nbconvert_exporter": "python",
   "pygments_lexer": "ipython3",
   "version": "3.9.5"
  },
  "orig_nbformat": 4,
  "vscode": {
   "interpreter": {
    "hash": "ebb48f30bfa73a9d5390e3f2a2cc10771d9a6ee6f6564902336f4940eb1fe8fe"
   }
  }
 },
 "nbformat": 4,
 "nbformat_minor": 2
}
